{
 "cells": [
  {
   "cell_type": "code",
   "execution_count": 4,
   "id": "95f67aae-8ba9-4b2e-bec5-e484ec5c0bdb",
   "metadata": {},
   "outputs": [],
   "source": [
    "import numpy as np\n",
    "import pandas as pd\n",
    "import yfinance as yf\n",
    "import matplotlib.pyplot as plt"
   ]
  },
  {
   "cell_type": "markdown",
   "id": "b0deecdb-1f74-4873-b627-f756f6c785d5",
   "metadata": {},
   "source": [
    "# Bayesian vs. Frequentist Estimation\n",
    "There are distint differences from frequentists/classical analysis and Bayesian data analysis. The main difference is how it treats model parameters. Both aim to learn more about parameters $\\theta$. Where $\\theta$ contains a fixed but unknown amount of elements that is associated with the population. \n",
    "## Bayesian \n",
    "- Formulate probabilistic statments about events before collecting additional data\n",
    "- These subjective probabilities are called priors\n",
    "- Assigns guess to $\\theta$, and give it a prior probability distribution labeled $p(\\theta)$\n",
    "Updating our prior from the sample data, so the data should contribute to learning about $\\theta$\n",
    "## Frequentist\n",
    "- All estimations are based only on the observed data\n",
    "- collects samples of observations and combine it with statistial models to produce an estimate $\\hat{\\theta}$\n",
    "- uncertiainy comes from the fact that its a sample, and uncertainty is expressed by standard errors to each element of $\\hat{\\theta}$\n",
    "Frequentists start with a blank mind for $\\theta$. They collect data to produce the estimiate $\\hat{\\theta}$. Then they formalize the characteristics and uncertainty of $\\hat{\\theta}$ for a finite sample and a hypothetical large sample (asymptotic) case. "
   ]
  },
  {
   "cell_type": "markdown",
   "id": "3b2e26d5-d68f-44e5-9a9a-efec8cf6aa1c",
   "metadata": {},
   "source": [
    "There are frameworks to relate $\\theta$ to the observed data $y$ and a matrix of explanatory variables $X$. This is formalized in the likelihood function\n",
    "$$p\\,(y\\mid\\theta , X)$$\n"
   ]
  },
  {
   "cell_type": "markdown",
   "id": "ad7ee95c-a8e6-493f-b332-a77ceeb43416",
   "metadata": {},
   "source": [
    "While Bayesians combine the piror and likelihood using Baye's rule to derive the posterior distribution (the updated version of the prior).\n",
    "\n",
    "$$\n",
    "p\\,(\\theta \\mid y, X)\n",
    "= \\frac{p\\,(\\theta, y \\mid X)}{p\\,(y \\mid X)}\n",
    "= \\frac{p\\,(\\theta)\\,p\\,(y \\mid \\theta, X)}{p\\,(y \\mid X)}\n",
    "\\propto p\\,(\\theta)\\,p\\,(y \\mid \\theta, X)\n",
    "$$\n",
    "\n",
    "where $p\\,(y \\mid X)$ is the marginal likelihood"
   ]
  },
  {
   "cell_type": "markdown",
   "id": "c6c7d124-58c5-4aa4-86b7-ad21b6bac5d9",
   "metadata": {},
   "source": [
    "## Frequentist approach"
   ]
  },
  {
   "cell_type": "markdown",
   "id": "8ca6d217-508f-4802-b789-1078ce4161bf",
   "metadata": {},
   "source": [
    "Consider a dataset of stock returns. From this data, we can compute the daily returns and determine whether each day’s return is positive or negative. If a day’s return is positive, we label it as an “up day” and set the random variable **$Y=1$**. Conversely, if the return is negative, we label it as a “down day” and set **$Y=0$**. This is modeled by the probability desnity of Y which can be modeled by the **Bernoulli distribution**: $$p\\,(y\\mid\\theta) = \\theta^y(1-\\theta)^{1-y}$$ where $\\theta\\in[0,1]$ represents the probaility of an \"up day\". "
   ]
  },
  {
   "cell_type": "code",
   "execution_count": 5,
   "id": "3ff6adf0-c3dc-4b0c-b400-e7240f573707",
   "metadata": {},
   "outputs": [
    {
     "data": {
      "text/html": [
       "<div>\n",
       "<style scoped>\n",
       "    .dataframe tbody tr th:only-of-type {\n",
       "        vertical-align: middle;\n",
       "    }\n",
       "\n",
       "    .dataframe tbody tr th {\n",
       "        vertical-align: top;\n",
       "    }\n",
       "\n",
       "    .dataframe thead th {\n",
       "        text-align: right;\n",
       "    }\n",
       "</style>\n",
       "<table border=\"1\" class=\"dataframe\">\n",
       "  <thead>\n",
       "    <tr style=\"text-align: right;\">\n",
       "      <th>Ticker</th>\n",
       "      <th>NVDA</th>\n",
       "    </tr>\n",
       "    <tr>\n",
       "      <th>Date</th>\n",
       "      <th></th>\n",
       "    </tr>\n",
       "  </thead>\n",
       "  <tbody>\n",
       "    <tr>\n",
       "      <th>2024-10-09</th>\n",
       "      <td>False</td>\n",
       "    </tr>\n",
       "    <tr>\n",
       "      <th>2024-10-10</th>\n",
       "      <td>True</td>\n",
       "    </tr>\n",
       "    <tr>\n",
       "      <th>2024-10-11</th>\n",
       "      <td>False</td>\n",
       "    </tr>\n",
       "    <tr>\n",
       "      <th>2024-10-14</th>\n",
       "      <td>True</td>\n",
       "    </tr>\n",
       "    <tr>\n",
       "      <th>2024-10-15</th>\n",
       "      <td>False</td>\n",
       "    </tr>\n",
       "  </tbody>\n",
       "</table>\n",
       "</div>"
      ],
      "text/plain": [
       "Ticker       NVDA\n",
       "Date             \n",
       "2024-10-09  False\n",
       "2024-10-10   True\n",
       "2024-10-11  False\n",
       "2024-10-14   True\n",
       "2024-10-15  False"
      ]
     },
     "execution_count": 5,
     "metadata": {},
     "output_type": "execute_result"
    }
   ],
   "source": [
    "## Get Stock Return Data ##\n",
    "Tickers = \"NVDA\"\n",
    "data = yf.download(Tickers, period='1y', progress=False, auto_adjust=False)\n",
    "returns = data[\"Close\"].pct_change().dropna()\n",
    "\n",
    "## Determine if up or down day ## \n",
    "days_direction = returns > 0\n",
    "days_direction.head()"
   ]
  },
  {
   "cell_type": "markdown",
   "id": "1f420b6b-8251-45eb-a2dc-555922f2be01",
   "metadata": {},
   "source": [
    "### Extending to Multiple Days"
   ]
  },
  {
   "cell_type": "markdown",
   "id": "def4b74e-f02d-4372-9027-b136dcc89130",
   "metadata": {},
   "source": [
    "Now, suppose we observe n independent trading days of returns for the same stock, let:\n",
    "$$y=(y_1,y_2,\\ldots,y_n)$$ \n",
    "Assuming independence between days, the joint proability/likelihood of observing that exact sequence is the product of the individual Bernoulli probabilities.\n",
    "$$p\\,(\\mathbf{y} \\mid \\theta) = \\prod_{i=1}^{n} \\theta^{y_i}(1 - \\theta)^{1 - y_i}.$$\n",
    "\n",
    "Let $k = \\Sigma_{i=1}^{n}y_i$, simplifying the equation:\n",
    "$$p(\\mathbf{y} \\mid \\theta) = \\theta^{k}(1 - \\theta)^{n - k}.$$\n",
    "\n",
    "We only care about the number of successes/up days k, we must include the number of possible arrangements of the k successes among n days, given by the binomial coefficent $\\binom{n}{k}$.\n",
    "\n",
    "Thus, the probability of observing $k$ up days out of $n$ is given by the Binomial distribution:\n",
    "$$\n",
    "p\\,(k \\mid \\theta) = \\binom{n}{k} \\, \\theta^k (1 - \\theta)^{n - k}.\n",
    "$$"
   ]
  },
  {
   "cell_type": "markdown",
   "id": "5d93433f-9af9-4b68-aadc-db956fa23a61",
   "metadata": {},
   "source": [
    "### Estimating Parameter"
   ]
  },
  {
   "cell_type": "markdown",
   "id": "8e9e8fba-52d8-4ac0-964f-23ceb4e3e4a6",
   "metadata": {},
   "source": [
    "Before we can use any of the probability distributions we must estimate the parameter $\\hat{\\theta}$ according the frequentist approach. We can estimate the maximum likelihood by getting the log likelihood and finding the maximum giving the formula\n",
    "$$\\hat{\\theta}_{ML} = \\frac{\\Sigma y_i}{n}.$$"
   ]
  },
  {
   "cell_type": "code",
   "execution_count": 6,
   "id": "2162989c-b3d8-402d-bc12-1ca0e8ca2e32",
   "metadata": {},
   "outputs": [
    {
     "name": "stdout",
     "output_type": "stream",
     "text": [
      "53.8%\n"
     ]
    }
   ],
   "source": [
    "theta_ml = (days_direction.sum() / len(days_direction)).values[0]\n",
    "print(f'{round(theta_ml * 100, 1)}%')"
   ]
  },
  {
   "cell_type": "markdown",
   "id": "52ab281b-526d-4413-a45a-33daa2f71596",
   "metadata": {},
   "source": [
    "Notice that the frequentist approach gives a single point as our estimate. Theta_ml represent our chance of getting an up day."
   ]
  },
  {
   "cell_type": "code",
   "execution_count": 7,
   "id": "ee878181-e76b-4ec3-bd5c-f473ac71e9f3",
   "metadata": {},
   "outputs": [],
   "source": [
    "## Potnetially add bias and varianece calculation"
   ]
  },
  {
   "cell_type": "markdown",
   "id": "8fc6fa43-f3e6-4c18-afd8-a1362f98207c",
   "metadata": {},
   "source": [
    "### Simulating chance of a number of up days"
   ]
  },
  {
   "cell_type": "markdown",
   "id": "03cb24fd-e3a0-4b35-a54a-f6d17b3568f2",
   "metadata": {},
   "source": [
    "Pluging in our maximum liklihood estimation into the binomial distribution and generating 10 million simulations of up days for the total amount of trading days we get this distribution:"
   ]
  },
  {
   "cell_type": "code",
   "execution_count": 83,
   "id": "07b1ffaf-f6b4-4716-be0b-93de718945a7",
   "metadata": {},
   "outputs": [
    {
     "data": {
      "image/png": "[encoded data removed]",
      "text/plain": [
       "<Figure size 640x480 with 1 Axes>"
      ]
     },
     "metadata": {},
     "output_type": "display_data"
    }
   ],
   "source": [
    "rng = np.random.default_rng() \n",
    "up_days = rng.binomial(n=len(days_direction), p=theta_ml, size=10_000_000)\n",
    "plt.hist(up_days, bins=len(days_direction), density=True, align='mid')\n",
    "plt.title(\"Simulation of Up Days in a Year\")\n",
    "plt.ylabel(\"Probability\")\n",
    "plt.xlabel(\"Up days\")\n",
    "plt.show()"
   ]
  },
  {
   "cell_type": "code",
   "execution_count": null,
   "id": "db637daf-2f73-4b85-ba32-32bc0e171365",
   "metadata": {},
   "outputs": [],
   "source": []
  },
  {
   "cell_type": "code",
   "execution_count": null,
   "id": "5bc044ed-32bc-4ee2-ab89-59a31dc2339e",
   "metadata": {},
   "outputs": [],
   "source": []
  }
 ],
 "metadata": {
  "kernelspec": {
   "display_name": "Python 3 (ipykernel)",
   "language": "python",
   "name": "python3"
  },
  "language_info": {
   "codemirror_mode": {
    "name": "ipython",
    "version": 3
   },
   "file_extension": ".py",
   "mimetype": "text/x-python",
   "name": "python",
   "nbconvert_exporter": "python",
   "pygments_lexer": "ipython3",
   "version": "3.11.9"
  }
 },
 "nbformat": 4,
 "nbformat_minor": 5
}
