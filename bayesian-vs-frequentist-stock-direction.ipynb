{
 "cells": [
  {
   "cell_type": "code",
   "execution_count": 83,
   "id": "95f67aae-8ba9-4b2e-bec5-e484ec5c0bdb",
   "metadata": {},
   "outputs": [],
   "source": [
    "import numpy as np\n",
    "import pandas as pd\n",
    "import yfinance as yf\n",
    "import matplotlib.pyplot as plt"
   ]
  },
  {
   "cell_type": "code",
   "execution_count": 102,
   "id": "6ae8045e-6a0a-422a-8ec4-b7f7292b27fa",
   "metadata": {},
   "outputs": [
    {
     "name": "stderr",
     "output_type": "stream",
     "text": [
      "/var/folders/c3/_pvgw8912kqc3xvfwfgx0nlh0000gn/T/ipykernel_86524/3258551840.py:2: FutureWarning: YF.download() has changed argument auto_adjust default to True\n",
      "  data = yf.download(Tickers, period='1y', progress=False)\n"
     ]
    },
    {
     "data": {
      "text/html": [
       "<div>\n",
       "<style scoped>\n",
       "    .dataframe tbody tr th:only-of-type {\n",
       "        vertical-align: middle;\n",
       "    }\n",
       "\n",
       "    .dataframe tbody tr th {\n",
       "        vertical-align: top;\n",
       "    }\n",
       "\n",
       "    .dataframe thead th {\n",
       "        text-align: right;\n",
       "    }\n",
       "</style>\n",
       "<table border=\"1\" class=\"dataframe\">\n",
       "  <thead>\n",
       "    <tr style=\"text-align: right;\">\n",
       "      <th>Ticker</th>\n",
       "      <th>ASST</th>\n",
       "    </tr>\n",
       "    <tr>\n",
       "      <th>Date</th>\n",
       "      <th></th>\n",
       "    </tr>\n",
       "  </thead>\n",
       "  <tbody>\n",
       "    <tr>\n",
       "      <th>2024-10-08</th>\n",
       "      <td>0.000000</td>\n",
       "    </tr>\n",
       "    <tr>\n",
       "      <th>2024-10-09</th>\n",
       "      <td>-0.071429</td>\n",
       "    </tr>\n",
       "    <tr>\n",
       "      <th>2024-10-10</th>\n",
       "      <td>0.019231</td>\n",
       "    </tr>\n",
       "    <tr>\n",
       "      <th>2024-10-11</th>\n",
       "      <td>-0.018868</td>\n",
       "    </tr>\n",
       "    <tr>\n",
       "      <th>2024-10-14</th>\n",
       "      <td>0.009615</td>\n",
       "    </tr>\n",
       "  </tbody>\n",
       "</table>\n",
       "</div>"
      ],
      "text/plain": [
       "Ticker          ASST\n",
       "Date                \n",
       "2024-10-08  0.000000\n",
       "2024-10-09 -0.071429\n",
       "2024-10-10  0.019231\n",
       "2024-10-11 -0.018868\n",
       "2024-10-14  0.009615"
      ]
     },
     "execution_count": 102,
     "metadata": {},
     "output_type": "execute_result"
    }
   ],
   "source": [
    "Tickers = \"ASST\"\n",
    "data = yf.download(Tickers, period='1y', progress=False)\n",
    "returns = data[\"Close\"].pct_change().dropna()\n",
    "returns = pd.DataFrame(returns)\n",
    "returns.head()"
   ]
  },
  {
   "cell_type": "markdown",
   "id": "c1222462-0649-4693-83d3-540531f2cb0c",
   "metadata": {},
   "source": [
    "Check if the data is up or down."
   ]
  },
  {
   "cell_type": "code",
   "execution_count": 103,
   "id": "1c1fdc0c-e227-47ae-8fd3-8cd1a28e9ebf",
   "metadata": {},
   "outputs": [
    {
     "data": {
      "text/html": [
       "<div>\n",
       "<style scoped>\n",
       "    .dataframe tbody tr th:only-of-type {\n",
       "        vertical-align: middle;\n",
       "    }\n",
       "\n",
       "    .dataframe tbody tr th {\n",
       "        vertical-align: top;\n",
       "    }\n",
       "\n",
       "    .dataframe thead th {\n",
       "        text-align: right;\n",
       "    }\n",
       "</style>\n",
       "<table border=\"1\" class=\"dataframe\">\n",
       "  <thead>\n",
       "    <tr style=\"text-align: right;\">\n",
       "      <th>Ticker</th>\n",
       "      <th>ASST</th>\n",
       "    </tr>\n",
       "    <tr>\n",
       "      <th>Date</th>\n",
       "      <th></th>\n",
       "    </tr>\n",
       "  </thead>\n",
       "  <tbody>\n",
       "    <tr>\n",
       "      <th>2024-10-08</th>\n",
       "      <td>False</td>\n",
       "    </tr>\n",
       "    <tr>\n",
       "      <th>2024-10-09</th>\n",
       "      <td>False</td>\n",
       "    </tr>\n",
       "    <tr>\n",
       "      <th>2024-10-10</th>\n",
       "      <td>True</td>\n",
       "    </tr>\n",
       "    <tr>\n",
       "      <th>2024-10-11</th>\n",
       "      <td>False</td>\n",
       "    </tr>\n",
       "    <tr>\n",
       "      <th>2024-10-14</th>\n",
       "      <td>True</td>\n",
       "    </tr>\n",
       "    <tr>\n",
       "      <th>...</th>\n",
       "      <td>...</td>\n",
       "    </tr>\n",
       "    <tr>\n",
       "      <th>2025-10-01</th>\n",
       "      <td>True</td>\n",
       "    </tr>\n",
       "    <tr>\n",
       "      <th>2025-10-02</th>\n",
       "      <td>True</td>\n",
       "    </tr>\n",
       "    <tr>\n",
       "      <th>2025-10-03</th>\n",
       "      <td>False</td>\n",
       "    </tr>\n",
       "    <tr>\n",
       "      <th>2025-10-06</th>\n",
       "      <td>False</td>\n",
       "    </tr>\n",
       "    <tr>\n",
       "      <th>2025-10-07</th>\n",
       "      <td>False</td>\n",
       "    </tr>\n",
       "  </tbody>\n",
       "</table>\n",
       "<p>250 rows × 1 columns</p>\n",
       "</div>"
      ],
      "text/plain": [
       "Ticker       ASST\n",
       "Date             \n",
       "2024-10-08  False\n",
       "2024-10-09  False\n",
       "2024-10-10   True\n",
       "2024-10-11  False\n",
       "2024-10-14   True\n",
       "...           ...\n",
       "2025-10-01   True\n",
       "2025-10-02   True\n",
       "2025-10-03  False\n",
       "2025-10-06  False\n",
       "2025-10-07  False\n",
       "\n",
       "[250 rows x 1 columns]"
      ]
     },
     "execution_count": 103,
     "metadata": {},
     "output_type": "execute_result"
    }
   ],
   "source": [
    "days_direction = returns > 0\n",
    "days_direction"
   ]
  },
  {
   "cell_type": "code",
   "execution_count": 104,
   "id": "114e8a6a-88ef-4b36-babc-a891ed45997d",
   "metadata": {},
   "outputs": [
    {
     "data": {
      "text/plain": [
       "Ticker\n",
       "ASST    0.416\n",
       "dtype: float64"
      ]
     },
     "execution_count": 104,
     "metadata": {},
     "output_type": "execute_result"
    }
   ],
   "source": [
    "theta_ml = days_direction.sum()/len(days_direction)\n",
    "theta_ml"
   ]
  },
  {
   "cell_type": "code",
   "execution_count": 105,
   "id": "3ba36cd8-30d0-47ef-a87e-caee2cab8be8",
   "metadata": {},
   "outputs": [
    {
     "data": {
      "image/png": "[encoded data removed]",
      "text/plain": [
       "<Figure size 640x480 with 1 Axes>"
      ]
     },
     "metadata": {},
     "output_type": "display_data"
    }
   ],
   "source": [
    "true_counts = np.random.binomial(n=250, p=theta_ml, size=5_000_000)\n",
    "plt.hist(true_counts, bins=range(250), density=True, align=\"left\")\n",
    "plt.show()"
   ]
  },
  {
   "cell_type": "markdown",
   "id": "b0deecdb-1f74-4873-b627-f756f6c785d5",
   "metadata": {},
   "source": [
    "# Bayesian vs. Frequentist Estimation\n",
    "There are distint differences from frequentists/classical analysis and Bayesian data analysis. The main difference is how it treats model parameters. Both aim to learn more about parameters $\\theta$. Where $\\theta$ contains a fixed but unknown amount of elements that is associated with the population. \n",
    "## Bayesian \n",
    "- Formulate probabilistic statments about events before collecting additional data\n",
    "- These subjective probabilities are called priors\n",
    "- Assigns guess to $\\theta$, and give it a prior probability distribution labeled $p(\\theta)$\n",
    "## Frequentist\n",
    "- All estimations are based only on the observed data\n",
    "- collects samples of observations and combine it with statistial models to produce an estimate $\\hat{\\theta}$\n",
    "- uncertiainy comes from the fact that its a sample, and uncertainty is expressed by standard errors to each element of $\\hat{\\theta}$"
   ]
  },
  {
   "cell_type": "markdown",
   "id": "3b2e26d5-d68f-44e5-9a9a-efec8cf6aa1c",
   "metadata": {},
   "source": [
    "There are frameworks to relate $\\theta$ to the observed data $y$ and a matrix of explanatory variables $X$. This is formalized in the likelihood function\n",
    "$$p(y\\mid\\theta , X)$$\n"
   ]
  },
  {
   "cell_type": "code",
   "execution_count": null,
   "id": "df085736-f099-4dc9-9c81-7dfc7125b76b",
   "metadata": {},
   "outputs": [],
   "source": []
  },
  {
   "cell_type": "code",
   "execution_count": null,
   "id": "9d4c8ce6-09cd-45ba-92e8-1c2150bf4e4f",
   "metadata": {},
   "outputs": [],
   "source": []
  },
  {
   "cell_type": "code",
   "execution_count": null,
   "id": "43570f9c-2458-41e3-b984-74fe2175b725",
   "metadata": {},
   "outputs": [],
   "source": []
  },
  {
   "cell_type": "code",
   "execution_count": null,
   "id": "a05b8ea7-d622-4282-af2f-3e3545360130",
   "metadata": {},
   "outputs": [],
   "source": []
  },
  {
   "cell_type": "code",
   "execution_count": null,
   "id": "f64e377b-7772-4b52-99e3-3f8246df6f6f",
   "metadata": {},
   "outputs": [],
   "source": []
  },
  {
   "cell_type": "code",
   "execution_count": null,
   "id": "d370e4c3-f2dd-40b3-8f68-be078deeb11a",
   "metadata": {},
   "outputs": [],
   "source": []
  },
  {
   "cell_type": "code",
   "execution_count": null,
   "id": "6459cd01-1cb8-4954-80a8-3ca6d6780692",
   "metadata": {},
   "outputs": [],
   "source": []
  }
 ],
 "metadata": {
  "kernelspec": {
   "display_name": "Python 3 (ipykernel)",
   "language": "python",
   "name": "python3"
  },
  "language_info": {
   "codemirror_mode": {
    "name": "ipython",
    "version": 3
   },
   "file_extension": ".py",
   "mimetype": "text/x-python",
   "name": "python",
   "nbconvert_exporter": "python",
   "pygments_lexer": "ipython3",
   "version": "3.13.0"
  }
 },
 "nbformat": 4,
 "nbformat_minor": 5
}
